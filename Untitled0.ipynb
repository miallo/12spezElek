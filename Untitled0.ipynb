{
 "metadata": {
  "name": "Untitled0"
 },
 "nbformat": 3,
 "nbformat_minor": 0,
 "worksheets": [
  {
   "cells": [
    {
     "cell_type": "code",
     "collapsed": false,
     "input": [
      "import maabara as ma\n",
      "import math"
     ],
     "language": "python",
     "metadata": {},
     "outputs": [],
     "prompt_number": 14
    },
    {
     "cell_type": "code",
     "collapsed": false,
     "input": [
      "formel=ma.Sheet(\"sqrt(2*U/r/r/A)\",\"B_\\\\text{real}\")\n",
      "formel.v('U',140.0,0.5,'U')\n",
      "formel.v('A',1.67e11,0.06e11,'\\\\frac{e}{m_e}')\n",
      "formel.v('r',0.03,0.002,'r')\n",
      "formel.p()"
     ],
     "language": "python",
     "metadata": {},
     "outputs": [
      {
       "latex": [
        "$$B_\\text{real}=\\sqrt{2} \\cdot \\sqrt{\\frac{U}{\\frac{e}{m_e} \\cdot r^{2}}}$$"
       ],
       "output_type": "display_data",
       "text": [
        "<IPython.core.display.Math at 0x4708610>"
       ]
      },
      {
       "output_type": "stream",
       "stream": "stdout",
       "text": [
        "B_\\text{real}=\\sqrt{2} \\cdot \\sqrt{\\frac{U}{\\frac{e}{m_e} \\cdot r^{2}}}\n",
        "\n"
       ]
      },
      {
       "latex": [
        "$$B_\\text{real}=0.00136 \\pm 0.00009$$"
       ],
       "output_type": "display_data",
       "text": [
        "<IPython.core.display.Math at 0x4708610>"
       ]
      },
      {
       "output_type": "stream",
       "stream": "stdout",
       "text": [
        "B_\\text{real}=0.00136 \\pm 0.00009\n",
        "\n"
       ]
      },
      {
       "latex": [
        "$$\\sigma_{B_\\text{real}}=\\frac{1}{2 \\cdot \\sqrt{\\frac{e}{m_e}} \\cdot r} \\cdot \\sqrt{\\frac{8}{r^{2}} \\cdot U \\cdot \\sigma_{r}^{2} + \\frac{2}{U} \\cdot \\sigma_{U}^{2} + \\frac{2}{\\frac{e}{m_e}^{2}} \\cdot U \\cdot \\sigma_{\\frac{e}{m_e}}^{2}}$$"
       ],
       "output_type": "display_data",
       "text": [
        "<IPython.core.display.Math at 0x4708610>"
       ]
      },
      {
       "output_type": "stream",
       "stream": "stdout",
       "text": [
        "\\sigma_{B_\\text{real}}=\\frac{1}{2 \\cdot \\sqrt{\\frac{e}{m_e}} \\cdot r} \\cdot \\sqrt{\\frac{8}{r^{2}} \\cdot U \\cdot \\sigma_{r}^{2} + \\frac{2}{U} \\cdot \\sigma_{U}^{2} + \\frac{2}{\\frac{e}{m_e}^{2}} \\cdot U \\cdot \\sigma_{\\frac{e}{m_e}}^{2}}\n",
        "\n"
       ]
      },
      {
       "output_type": "pyout",
       "prompt_number": 35,
       "text": [
        "0.0013648958880062882+/-9.42701595923345e-05"
       ]
      }
     ],
     "prompt_number": 35
    },
    {
     "cell_type": "code",
     "collapsed": false,
     "input": [
      "munull=math.pi*4e-7\n",
      "\n",
      "btheo=ma.Sheet(\"8*mu0*Wdg*Str/(sqrt(125)*R)\",\"B_\\\\text{theo}\")\n",
      "btheo.v('mu0',munull,tex='\\\\mu_0')\n",
      "btheo.v('Str',0.95,0.01,'I')\n",
      "btheo.v('R',0.12,tex='R')\n",
      "btheo.v('Wdg',200,tex='n')\n",
      "btheo.p()"
     ],
     "language": "python",
     "metadata": {},
     "outputs": [
      {
       "latex": [
        "$$B_\\text{theo}=\\frac{8 \\cdot I \\cdot n}{25 \\cdot R} \\cdot \\sqrt{5} \\cdot \\mu_{0}$$"
       ],
       "output_type": "display_data",
       "text": [
        "<IPython.core.display.Math at 0x47a0d50>"
       ]
      },
      {
       "output_type": "stream",
       "stream": "stdout",
       "text": [
        "B_\\text{theo}=\\frac{8 \\cdot I \\cdot n}{25 \\cdot R} \\cdot \\sqrt{5} \\cdot \\mu_{0}\n",
        "\n"
       ]
      },
      {
       "latex": [
        "$$B_\\text{theo}=0.00142 \\pm 0.00001$$"
       ],
       "output_type": "display_data",
       "text": [
        "<IPython.core.display.Math at 0x47a0d50>"
       ]
      },
      {
       "output_type": "stream",
       "stream": "stdout",
       "text": [
        "B_\\text{theo}=0.00142 \\pm 0.00001\n",
        "\n"
       ]
      },
      {
       "latex": [
        "$$\\sigma_{B_\\text{theo}}=\\frac{8 \\cdot n \\cdot \\mu_{0}}{25 \\cdot R} \\cdot \\sqrt{5} \\cdot \\sigma_{I}$$"
       ],
       "output_type": "display_data",
       "text": [
        "<IPython.core.display.Math at 0x47a0d50>"
       ]
      },
      {
       "output_type": "stream",
       "stream": "stdout",
       "text": [
        "\\sigma_{B_\\text{theo}}=\\frac{8 \\cdot n \\cdot \\mu_{0}}{25 \\cdot R} \\cdot \\sqrt{5} \\cdot \\sigma_{I}\n",
        "\n"
       ]
      },
      {
       "output_type": "pyout",
       "prompt_number": 34,
       "text": [
        "0.0014236957854955462+/-1.4986271426268907e-05"
       ]
      }
     ],
     "prompt_number": 34
    },
    {
     "cell_type": "code",
     "collapsed": false,
     "input": [
      "print "
     ],
     "language": "python",
     "metadata": {},
     "outputs": [],
     "prompt_number": 16
    }
   ],
   "metadata": {}
  }
 ]
}